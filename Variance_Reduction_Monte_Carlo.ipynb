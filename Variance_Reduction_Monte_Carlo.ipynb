{
  "cells": [
    {
      "cell_type": "code",
      "source": [
        "import numpy as np\n",
        "import pandas as pd\n",
        "import datetime\n",
        "import scipy.stats as stats\n",
        "import matplotlib.pyplot as plt\n",
        "from pandas_datareader import data as pdr"
      ],
      "metadata": {
        "id": "MNP2wAX0qZIv"
      },
      "execution_count": null,
      "outputs": []
    },
    {
      "cell_type": "markdown",
      "source": [
        "# European Call Options valuation\n",
        "\n",
        "The risk neutral prcing methodology tells us that:\n",
        "\n",
        "*   Value of an option = risk neutral expectation of its discounted payoff\n",
        "\n",
        "We can estimate this expectation by computing the average of a large nuber off discounted payoffs. For a particular simulation i:\n",
        "\n",
        "$$ C_{0,i} = exp( - \\int_{0}^{T} r_s ds) C_{T,i} = exp( - rT) C_{T,i} $$\n",
        "\n",
        "If we repeat the simulation M times, we can average the outcomes:\n",
        "$$ \\hat{C_{0}} = \\frac{1}{M} \\sum_{i=1}^M  C_{0,i}$$\n",
        "\n",
        "## Standard Error SE($\\hat{C_{0}}$)\n",
        "$\\hat{C_{0}}$ is an estimate of the true value of the option $C_{0}$ with error due to the fact that we are taking an average of randomly generated samples, and therefore the calculation is itself random. A of this error is the standard deviation of $\\hat{C_{0}}$ called the standard errorr. This can be estimated as the standard deviation of $C_{0}$, divided by the number of samples $M$.\n",
        "\n",
        "$$\\hat{C_{0}} = \\frac{\\sigma(C_{0,i})}{\\sqrt{M}}$$\n",
        "\n",
        "$$\\sigma(C_{0,i} = \\sqrt{\\frac{1}{M-1} \\sum_{i=1}^M(C_{0,i} - \\hat{C_{0}})^2}$$\n",
        "\n",
        "\n",
        "# European calls in the BS world\n",
        "\n",
        "If we consider $X : = log S$ then the asset price process verifies this SDE:\n",
        "\n",
        "$$dx_t = \\nu dt + \\sigma  dZ_t  , \\nu =r - \\frac{1}{2}\\sigma ^ 2$$\n",
        "\n",
        "Discretisizing : $ \\Delta x = \\nu \\Delta t + \\sigma \\Delta Z$\n",
        "\n",
        "$$x_{t+\\Delta t} = x_t + \\nu \\Delta t + \\sigma(Z_{t+\\Delta t} - Z_t )$$\n",
        "\n",
        "in terms f the stock price $S_t$:\n",
        " $$S_{t+\\Delta t} = S_t exp(\\nu \\Delta t + \\sigma(Z_{t+\\Delta t} - Z_t ))$$\n",
        "\n",
        "Where $(z_{t+\\Delta t}- z_t) \\sim N(0,\\Delta t) \\sim \\sqrt{\\Delta t} N(0,1) \\sim \\sqrt{\\Delta t} \\epsilon_i$\n",
        "\n",
        "\n",
        "\n"
      ],
      "metadata": {
        "id": "t09AH9AYl2_D"
      }
    },
    {
      "cell_type": "code",
      "source": [
        "S = 101.15\n",
        "K = 98.01\n",
        "vol = 0.0991\n",
        "r = 0.01\n",
        "N = 10\n",
        "M = 1000\n",
        "\n",
        "market_value = 3.86\n",
        "T = ((datetime.date(2024,5,17)-datetime.date.today()).days+1)/365 # Time in years\n",
        "print(T)"
      ],
      "metadata": {
        "colab": {
          "base_uri": "https://localhost:8080/"
        },
        "id": "rBCIdXuhqTNc",
        "outputId": "dfe05690-a821-4aa4-8e26-1d2dd9b4fbba"
      },
      "execution_count": null,
      "outputs": [
        {
          "output_type": "stream",
          "name": "stdout",
          "text": [
            "0.07945205479452055\n"
          ]
        }
      ]
    },
    {
      "cell_type": "code",
      "source": [
        "# Precompute constants\n",
        "dt = T/N\n",
        "nudt = (r - 0.5*vol**2)*dt\n",
        "volsdt = vol*np.sqrt(dt)\n",
        "lnS = np.log(S)\n",
        "\n",
        "# Standard Error Placeholders\n",
        "sum_CT = 0\n",
        "sum_CT2 = 0\n",
        "\n",
        "# Monte Carlo Method\n",
        "for i in range(M):\n",
        "    lnSt = lnS\n",
        "    for j in range(N):\n",
        "        epsilon = np.random.normal()\n",
        "        lnSt = lnSt + nudt + volsdt*epsilon\n",
        "\n",
        "    ST = np.exp(lnSt)\n",
        "    CT = max(0, ST - K)\n",
        "    sum_CT = sum_CT + CT\n",
        "    sum_CT2 = sum_CT2 + CT*CT\n",
        "\n",
        "# Compute Expectation and SE\n",
        "C0 = np.exp(-r*T)*sum_CT/M\n",
        "sigma = np.sqrt( (sum_CT2 - sum_CT*sum_CT/M)*np.exp(-2*r*T) / (M-1) )\n",
        "SE = sigma/np.sqrt(M)\n",
        "\n",
        "print(\"Call value is ${0} with SE +/- {1}\".format(np.round(C0,2),np.round(SE,2)))"
      ],
      "metadata": {
        "colab": {
          "base_uri": "https://localhost:8080/"
        },
        "id": "XMnBloyQqLbm",
        "outputId": "1a4101d9-bd35-4c47-8502-4576e24360ce"
      },
      "execution_count": null,
      "outputs": [
        {
          "output_type": "stream",
          "name": "stdout",
          "text": [
            "Call value is $3.28 with SE +/- 0.08\n"
          ]
        }
      ]
    },
    {
      "cell_type": "markdown",
      "source": [
        "# Monte Carlo Variance Reduction Methods - Antithetic\n",
        "\n",
        "Unfortunately, although a great method for approximating option values with complex payoffs or high dimensionality, in order to get an acceptably accurate estimate we must perform a large number of simulations M. Instead we can lean on Variance Reduction methods which work on the same principles as that of hedging an option position. i.e. the variability of a hedged option portfolio will have a smaller variance than that of it's unhedged counterpart.\n",
        "\n",
        "\n",
        "## Antithetic Variates\n",
        "\n",
        "Let's write an option on asset $S_1$ and another option on asset $S_2$ that is perfectly negatively correlated with $S_1$ and which currently has the same price. $S_1$ and $S_2$ satisfy the following Stochastic Differential Equations:\n",
        "\n",
        "$\\large dS_{1,t} = rdS_{1,t}dt+\\sigma dS_{1,t}dz_t$\n",
        "\n",
        "$\\large dS_{2,t} = rdS_{2,t}dt-\\sigma dS_{2,t}dz_t$\n",
        "\n",
        "Since the price and volatility of the two assets are identical, so is the value of these two options. However, the variance of a portfolio pay-off containing both of these contracts is much less than the variance of the pay-off of each individual contract. In essence we are removing the large spike in probability distribution of a single contract pay-off. i.e. Basic Intuition: when one option pays out, the other does not.\n",
        "\n",
        "\n",
        "## Implementation of Antithetic Variate\n",
        "\n",
        "To implement an antithetic variate we create a hypothetical asset which is perfectly negatively correlated with the original asset. Implementation is very simple, and if we consider the example of the European Call Option (as in last weeks video). Our simulated pay-offs are under the following $S_t$ dynamics:\n",
        "\n",
        "$\\large S_{t+\\Delta t} = S_{t} \\exp( \\nu \\Delta t + \\sigma (z_{t+\\Delta t}- z_t) )$\n",
        "\n",
        "Where $(z_{t+\\Delta t}- z_t) \\sim N(0,\\Delta t) \\sim \\sqrt{\\Delta t} N(0,1) \\sim \\sqrt{\\Delta t} \\epsilon_i$\n",
        "\n",
        "### Contract Simulation\n",
        "\n",
        "- $\\large C_{T,i} = max(0, S \\exp( \\nu \\Delta T + \\sigma \\sqrt{T} (\\epsilon_i) ) - K)$\n",
        "\n",
        "- $\\large \\bar{C}_{T,i} = max(0, S \\exp( \\nu \\Delta T + \\sigma \\sqrt{T} (-\\epsilon_i) ) - K)$\n"
      ],
      "metadata": {
        "id": "jpGg3aEsypqq"
      }
    },
    {
      "cell_type": "code",
      "source": [
        "# Standard Error Placeholders\n",
        "sum_CT = 0\n",
        "sum_CT2 = 0\n",
        "\n",
        "# Monte Carlo Method\n",
        "for i in range(M):\n",
        "    lnSt1 = lnS\n",
        "    lnSt2 = lnS\n",
        "    for j in range(N):\n",
        "        # Perfectly Negatively Correlated Assets\n",
        "        epsilon = np.random.normal()\n",
        "        lnSt1 = lnSt1 + nudt + volsdt*epsilon\n",
        "        lnSt2 = lnSt2 + nudt - volsdt*epsilon\n",
        "\n",
        "    ST1 = np.exp(lnSt1)\n",
        "    ST2 = np.exp(lnSt2)\n",
        "    CT = 0.5 * ( max(0, ST1 - K) + max(0, ST2 - K) )\n",
        "    sum_CT = sum_CT + CT\n",
        "    sum_CT2 = sum_CT2 + CT*CT\n",
        "\n",
        "# Compute Expectation and SE\n",
        "C0 = np.exp(-r*T)*sum_CT/M\n",
        "sigma = np.sqrt( (sum_CT2 - sum_CT*sum_CT/M)*np.exp(-2*r*T) / (M-1) )\n",
        "SE = sigma/np.sqrt(M)\n",
        "\n",
        "print(\"Call value is ${0} with SE +/- {1}\".format(np.round(C0,2),np.round(SE,2)))\n"
      ],
      "metadata": {
        "colab": {
          "base_uri": "https://localhost:8080/"
        },
        "id": "TOgSyzIJyc4H",
        "outputId": "28bc75fa-21aa-4d62-d12e-bb9dde5dd538"
      },
      "execution_count": null,
      "outputs": [
        {
          "output_type": "stream",
          "name": "stdout",
          "text": [
            "Call value is $3.38 with SE +/- 0.01\n"
          ]
        }
      ]
    },
    {
      "cell_type": "markdown",
      "source": [
        "# Monte Carlo Variance Reduction Methods - Control Variates\n"
      ],
      "metadata": {
        "id": "wahxcnZtBR-h"
      }
    },
    {
      "cell_type": "code",
      "source": [
        "!pip install py_vollib"
      ],
      "metadata": {
        "colab": {
          "base_uri": "https://localhost:8080/"
        },
        "id": "9ntRWp9cAzuQ",
        "outputId": "88a244de-8ccb-4715-c917-a75947c9361c"
      },
      "execution_count": null,
      "outputs": [
        {
          "output_type": "stream",
          "name": "stdout",
          "text": [
            "Collecting py_vollib\n",
            "  Downloading py_vollib-1.0.1.tar.gz (19 kB)\n",
            "  Preparing metadata (setup.py) ... \u001b[?25l\u001b[?25hdone\n",
            "Collecting py_lets_be_rational (from py_vollib)\n",
            "  Downloading py_lets_be_rational-1.0.1.tar.gz (18 kB)\n",
            "  Preparing metadata (setup.py) ... \u001b[?25l\u001b[?25hdone\n",
            "Collecting simplejson (from py_vollib)\n",
            "  Downloading simplejson-3.19.2-cp310-cp310-manylinux_2_5_x86_64.manylinux1_x86_64.manylinux_2_17_x86_64.manylinux2014_x86_64.whl (137 kB)\n",
            "\u001b[2K     \u001b[90m━━━━━━━━━━━━━━━━━━━━━━━━━━━━━━━━━━━━━━━━\u001b[0m \u001b[32m137.9/137.9 kB\u001b[0m \u001b[31m5.8 MB/s\u001b[0m eta \u001b[36m0:00:00\u001b[0m\n",
            "\u001b[?25hRequirement already satisfied: numpy in /usr/local/lib/python3.10/dist-packages (from py_vollib) (1.25.2)\n",
            "Requirement already satisfied: pandas in /usr/local/lib/python3.10/dist-packages (from py_vollib) (2.0.3)\n",
            "Requirement already satisfied: scipy in /usr/local/lib/python3.10/dist-packages (from py_vollib) (1.11.4)\n",
            "Requirement already satisfied: python-dateutil>=2.8.2 in /usr/local/lib/python3.10/dist-packages (from pandas->py_vollib) (2.8.2)\n",
            "Requirement already satisfied: pytz>=2020.1 in /usr/local/lib/python3.10/dist-packages (from pandas->py_vollib) (2023.4)\n",
            "Requirement already satisfied: tzdata>=2022.1 in /usr/local/lib/python3.10/dist-packages (from pandas->py_vollib) (2024.1)\n",
            "Requirement already satisfied: six>=1.5 in /usr/local/lib/python3.10/dist-packages (from python-dateutil>=2.8.2->pandas->py_vollib) (1.16.0)\n",
            "Building wheels for collected packages: py_vollib, py_lets_be_rational\n",
            "  Building wheel for py_vollib (setup.py) ... \u001b[?25l\u001b[?25hdone\n",
            "  Created wheel for py_vollib: filename=py_vollib-1.0.1-py3-none-any.whl size=62829 sha256=080d80eebfc9543b9d5446a66aeada5d3bf7744504b051e978674bf1e346eb99\n",
            "  Stored in directory: /root/.cache/pip/wheels/84/0c/fc/b68506eda40cccaeb0013be550ba904d253ec90eae2b156052\n",
            "  Building wheel for py_lets_be_rational (setup.py) ... \u001b[?25l\u001b[?25hdone\n",
            "  Created wheel for py_lets_be_rational: filename=py_lets_be_rational-1.0.1-py3-none-any.whl size=24450 sha256=f22e30574d6e12a96f5f012125aaadff3235d84c5f519002db93de1b701495df\n",
            "  Stored in directory: /root/.cache/pip/wheels/32/d9/4f/360d4b0b9ec7c65583ec7c8e72fd2158c97ad04fbcb932891c\n",
            "Successfully built py_vollib py_lets_be_rational\n",
            "Installing collected packages: simplejson, py_lets_be_rational, py_vollib\n",
            "Successfully installed py_lets_be_rational-1.0.1 py_vollib-1.0.1 simplejson-3.19.2\n"
          ]
        }
      ]
    },
    {
      "cell_type": "code",
      "source": [
        "from py_vollib.black_scholes.implied_volatility import implied_volatility as iv\n",
        "from py_vollib.black_scholes import black_scholes as bs\n",
        "from py_vollib.black_scholes.greeks.analytical import vega, delta"
      ],
      "metadata": {
        "colab": {
          "base_uri": "https://localhost:8080/"
        },
        "id": "asYthu6hCV6S",
        "outputId": "4ca1a3a5-bd78-4594-c14a-fa6911666eeb"
      },
      "execution_count": null,
      "outputs": [
        {
          "output_type": "stream",
          "name": "stderr",
          "text": [
            "/usr/local/lib/python3.10/dist-packages/py_lets_be_rational/numba_helper.py:10: NumbaDeprecationWarning: The 'nopython' keyword argument was not supplied to the 'numba.jit' decorator. The implicit default value for this argument is currently False, but it will be changed to True in Numba 0.59.0. See https://numba.readthedocs.io/en/stable/reference/deprecation.html#deprecation-of-object-mode-fall-back-behaviour-when-using-jit for details.\n",
            "  return jit(*jit_args, **jit_kwargs)(fun)\n"
          ]
        }
      ]
    },
    {
      "cell_type": "markdown",
      "source": [
        "## Control Variates & Hedging\n",
        "\n",
        "The probability distribution of an option pay-off after delta hedging has a smaller standard deviation compared to its portfolio's unhedged counterpart. Let's consider the dynamics of a discretely rebalanced delta hedge:\n",
        "\n",
        "$\\large C_{t_0}\\exp{rT} - [\\sum^{N}_{i=0} ( \\frac{\\delta C_{t_i}}{\\delta S} - \\frac{\\delta C_{t_{i-1}}}{\\delta S} ) S_t\\exp{r(T-t_i)}] = C_T + \\eta$\n",
        "\n",
        "The first term is the forward value of the premium recieved for writing the option, the second term represents t\n",
        "he cash flows from rebalancing the headge at each time $t$, and the third term is the pay-off of the option and the hedging error $\\eta$.\n",
        "\n",
        "Now if we expand the terms in the square brackets:\n",
        "\n",
        "$\\frac{\\delta C_{t_0}}{\\delta S}S_{t_0}\\exp{r(T-t_0)} + \\frac{\\delta C_{t_1}}{\\delta S}S_{t_0}\\exp{r(T-t_1)} + ... + \\frac{\\delta C_{t_{N-1}}}{\\delta S}S_{t_{N-1}}\\exp{r(T-t_{N-1})} + \\frac{\\delta C_N}{\\delta S}S_{t_N}$\n",
        "\n",
        "$-\\frac{\\delta C_{t_0}}{\\delta S}S_{t_1}\\exp{r(T-t_1)} - \\frac{\\delta C_{t_1}}{\\delta S}S_{t_2}\\exp{r(T-t_2)} - ... - \\frac{\\delta C_{t_{N-1}}}{\\delta S}S_N$\n",
        "\n",
        "Group terms with $\\frac{\\delta C_{t_i}}{\\delta S}$ at the same time steps.\n",
        "\n",
        "$-\\frac{\\delta C_{t_0}}{\\delta S}(S_{t_1}-S_{t_0}\\exp{r\\Delta t})\\exp{r(T-t_1)} - \\frac{\\delta C_{t_1}}{\\delta S}(S_{t_2}-S_{t_1}\\exp{r\\Delta t})\\exp{r(T-t_2)} - ... - \\frac{\\delta C_{t_{N-1}}}{\\delta S}(S_{t_N}-S_{t_{N-1}}\\exp{r\\Delta t}) + \\frac{\\delta C_N}{\\delta S}S_{t_N}$\n",
        "\n",
        "If we assume the last term equals 0, which is equivalent to not buying the final delta amount of the asset, but simpluing liquidating the underlying holdings from the previous rebalancing date into cash, then the portfolio becomes:\n",
        "\n",
        "$\\large C_{t_0}\\exp{rT} = C_T - [\\sum^{N-1}_{i=0} \\frac{\\delta C_{t_i}}{\\Delta S}(S_{t_{i+1}} - S_{t_i}\\exp{r\\delta t})\\exp{r(T-t_{i+1})} ] + \\eta$\n",
        "\n",
        "The term in the square brackets (the delta hedge) is a delta-based martingale control variate ($cv_1$). This can be written as:\n",
        "\n",
        "$\\large cv_1 = \\sum^{N-1}_{i=0} \\frac{\\delta C_{t_i}}{\\delta S}(S_{t_{i+1}} - {\\mathbb E}[S_{t_i}])\\exp{r(T-t_{i+1})}$\n",
        "\n",
        "$\\large C_{t_0}\\exp{rT} = C_T - cv_1 + \\eta$"
      ],
      "metadata": {
        "id": "YmhRxsVfCXc2"
      }
    },
    {
      "cell_type": "markdown",
      "source": [
        "## Gamma Based Control Variate\n",
        "\n",
        "The control variate is a random variable whose expected value we know, which is correlated with the varaible we are trying to estimate.\n",
        "\n",
        "In the same way as for $cv_1$ we can create other control variates, which are equivalent to other hedges.\n",
        "\n",
        "For example a gamma-based control variate ($cv_2$):\n",
        "\n",
        "$\\large cv_2 = \\sum^{N-1}_{i=0} \\frac{\\delta^2 C_{t_i}}{\\delta S^2}((\\Delta S_{t_{i+1}})^2 - {\\mathbb E}[(\\Delta S_{t_i})^2])\\exp{r(T-t_{i+1})}$\n",
        "\n",
        "Where ${\\mathbb E}[(\\Delta S_{t_i})^2] = S_{t_i}^2 (\\exp([2r+\\sigma^2]\\Delta t_i)-2\\exp(r\\Delta t_i)+1)$"
      ],
      "metadata": {
        "id": "jsK1L5ujCyZy"
      }
    },
    {
      "cell_type": "markdown",
      "source": [
        "## General Control Variate Equation\n",
        "\n",
        "For J control variates we have:\n",
        "\n",
        "$ \\Large C_0\\exp(rT) = C_T - \\sum^J_{i=j}\\beta_j cv_j + \\eta$\n",
        "\n",
        "where\n",
        "- $\\beta_j$ are factors to account for the \"true\" linear relationship between the option pay-off and the control variate $cv_j$\n",
        "- $\\eta$ accounts for errors:\n",
        "    - discrete rebalancing\n",
        "    - approximations in hedge sensitivities (calc. delta / gamma)\n",
        "    \n",
        "    \n",
        "Option price as the sum of the linear relationships with J control variates\n",
        "    \n",
        "$ \\large C_T =\\beta_0 + \\sum^J_{i=j}\\beta_j cv_j + \\eta$\n",
        "\n",
        "where $\\beta_0 = C_0\\exp(rT)$ is the forward price of the option\n",
        "\n",
        "If we perform M simulations at discrete time intervals N we can regard the pay-offs and control variates as samples of the linear relationship with some noise. We can estimate the true relationship between control variates and option pay-offs with least-squares regression:\n",
        "\n",
        "$\\beta = (X'X)^{-1}X'Y$\n",
        "\n",
        "We don't want biased estimates of $\\beta_j$ so these should be precomputed by least-squares regression to establish the relationship between types of control variates and options first. These estaimates of $\\beta_j$ values can then be used for $cv_j$ for pricing any option.  "
      ],
      "metadata": {
        "id": "4ppA2SV3Cxhl"
      }
    },
    {
      "cell_type": "markdown",
      "source": [
        "## Implementation of Delta-based Control Variates\n",
        "\n",
        "$\\large cv_1 = \\sum^{N-1}_{i=0} \\frac{\\delta C_{t_i}}{\\delta S}(S_{t_{i+1}} - {\\mathbb E}[S_{t_i}])\\exp{r(T-t_{i+1})}$\n",
        "\n",
        "$\\large C_{t_0}\\exp{rT} = C_T + \\beta_1 cv_1 + \\eta$\n",
        "\n",
        "\n",
        "where with GBM dynamics:\n",
        "- ${\\mathbb E}[S_{t_i}] = S_{t_{i-1}} \\exp (r \\Delta t_i)$\n",
        "- $\\beta_1 = -1$ which is the appropriate value where we have exact delta for European Option"
      ],
      "metadata": {
        "id": "QOsk9DQLC32A"
      }
    },
    {
      "cell_type": "code",
      "source": [
        "# Precompute constants\n",
        "N = 10\n",
        "dt = T/N\n",
        "nudt = (r - 0.5*vol**2)*dt\n",
        "volsdt = vol*np.sqrt(dt)\n",
        "erdt = np.exp(r*dt)\n",
        "\n",
        "beta1 = -1\n",
        "\n",
        "# Standard Error Placeholders\n",
        "sum_CT = 0\n",
        "sum_CT2 = 0\n",
        "\n",
        "# Monte Carlo Method\n",
        "for i in range(M):\n",
        "    St = S\n",
        "    cv = 0\n",
        "    for j in range(N):\n",
        "        epsilon = np.random.normal()\n",
        "        deltaSt = delta('c', St, K, T-j*dt, r, vol)\n",
        "        Stn = St*np.exp( nudt + volsdt*epsilon )\n",
        "        cv = cv + deltaSt*(Stn - St*erdt)\n",
        "        St = Stn\n",
        "\n",
        "    CT = max(0, St - K) + beta1*cv\n",
        "    sum_CT = sum_CT + CT\n",
        "    sum_CT2 = sum_CT2 + CT*CT\n",
        "\n",
        "# Compute Expectation and SE\n",
        "C0 = np.exp(-r*T)*sum_CT/M\n",
        "sigma = np.sqrt( (sum_CT2 - sum_CT*sum_CT/M)*np.exp(-2*r*T) / (M-1) )\n",
        "SE = sigma/np.sqrt(M)\n",
        "\n",
        "print(\"Call value is ${0} with SE +/- {1}\".format(np.round(C0,2),np.round(SE,3)))"
      ],
      "metadata": {
        "colab": {
          "base_uri": "https://localhost:8080/"
        },
        "id": "Al7Kg9tHCW3T",
        "outputId": "f89bb3f0-6456-4518-a2c6-3b0e5cb6e750"
      },
      "execution_count": null,
      "outputs": [
        {
          "output_type": "stream",
          "name": "stdout",
          "text": [
            "Call value is $3.38 with SE +/- 0.006\n"
          ]
        }
      ]
    }
  ],
  "metadata": {
    "colab": {
      "provenance": [],
      "gpuType": "T4",
      "mount_file_id": "1_fD5ohv5STvzaGhgZ8P5vpBwCvWgpUfl",
      "authorship_tag": "ABX9TyPMHsYx40IyNksjB/A5HCUS"
    },
    "kernelspec": {
      "display_name": "Python 3",
      "name": "python3"
    },
    "language_info": {
      "name": "python"
    }
  },
  "nbformat": 4,
  "nbformat_minor": 0
}